{
 "cells": [
  {
   "cell_type": "code",
   "execution_count": 547,
   "id": "2e829621-b72b-4743-9b26-8be483604aa2",
   "metadata": {},
   "outputs": [
    {
     "data": {
      "text/html": [
       "<div>\n",
       "<style scoped>\n",
       "    .dataframe tbody tr th:only-of-type {\n",
       "        vertical-align: middle;\n",
       "    }\n",
       "\n",
       "    .dataframe tbody tr th {\n",
       "        vertical-align: top;\n",
       "    }\n",
       "\n",
       "    .dataframe thead th {\n",
       "        text-align: right;\n",
       "    }\n",
       "</style>\n",
       "<table border=\"1\" class=\"dataframe\">\n",
       "  <thead>\n",
       "    <tr style=\"text-align: right;\">\n",
       "      <th></th>\n",
       "      <th>satisfaction_level</th>\n",
       "      <th>last_evaluation</th>\n",
       "      <th>number_project</th>\n",
       "      <th>average_montly_hours</th>\n",
       "      <th>time_spend_company</th>\n",
       "      <th>Work_accident</th>\n",
       "      <th>left</th>\n",
       "      <th>promotion_last_5years</th>\n",
       "      <th>department</th>\n",
       "      <th>salary</th>\n",
       "    </tr>\n",
       "  </thead>\n",
       "  <tbody>\n",
       "    <tr>\n",
       "      <th>0</th>\n",
       "      <td>0.38</td>\n",
       "      <td>0.53</td>\n",
       "      <td>2</td>\n",
       "      <td>157</td>\n",
       "      <td>3</td>\n",
       "      <td>0</td>\n",
       "      <td>1</td>\n",
       "      <td>0</td>\n",
       "      <td>sales</td>\n",
       "      <td>low</td>\n",
       "    </tr>\n",
       "    <tr>\n",
       "      <th>1</th>\n",
       "      <td>0.80</td>\n",
       "      <td>0.86</td>\n",
       "      <td>5</td>\n",
       "      <td>262</td>\n",
       "      <td>6</td>\n",
       "      <td>0</td>\n",
       "      <td>1</td>\n",
       "      <td>0</td>\n",
       "      <td>sales</td>\n",
       "      <td>medium</td>\n",
       "    </tr>\n",
       "    <tr>\n",
       "      <th>2</th>\n",
       "      <td>0.11</td>\n",
       "      <td>0.88</td>\n",
       "      <td>7</td>\n",
       "      <td>272</td>\n",
       "      <td>4</td>\n",
       "      <td>0</td>\n",
       "      <td>1</td>\n",
       "      <td>0</td>\n",
       "      <td>sales</td>\n",
       "      <td>medium</td>\n",
       "    </tr>\n",
       "    <tr>\n",
       "      <th>3</th>\n",
       "      <td>0.72</td>\n",
       "      <td>0.87</td>\n",
       "      <td>5</td>\n",
       "      <td>223</td>\n",
       "      <td>5</td>\n",
       "      <td>0</td>\n",
       "      <td>1</td>\n",
       "      <td>0</td>\n",
       "      <td>sales</td>\n",
       "      <td>low</td>\n",
       "    </tr>\n",
       "    <tr>\n",
       "      <th>4</th>\n",
       "      <td>0.37</td>\n",
       "      <td>0.52</td>\n",
       "      <td>2</td>\n",
       "      <td>159</td>\n",
       "      <td>3</td>\n",
       "      <td>0</td>\n",
       "      <td>1</td>\n",
       "      <td>0</td>\n",
       "      <td>sales</td>\n",
       "      <td>low</td>\n",
       "    </tr>\n",
       "  </tbody>\n",
       "</table>\n",
       "</div>"
      ],
      "text/plain": [
       "   satisfaction_level  last_evaluation  number_project  average_montly_hours  \\\n",
       "0                0.38             0.53               2                   157   \n",
       "1                0.80             0.86               5                   262   \n",
       "2                0.11             0.88               7                   272   \n",
       "3                0.72             0.87               5                   223   \n",
       "4                0.37             0.52               2                   159   \n",
       "\n",
       "   time_spend_company  Work_accident  left  promotion_last_5years department  \\\n",
       "0                   3              0     1                      0      sales   \n",
       "1                   6              0     1                      0      sales   \n",
       "2                   4              0     1                      0      sales   \n",
       "3                   5              0     1                      0      sales   \n",
       "4                   3              0     1                      0      sales   \n",
       "\n",
       "   salary  \n",
       "0     low  \n",
       "1  medium  \n",
       "2  medium  \n",
       "3     low  \n",
       "4     low  "
      ]
     },
     "execution_count": 547,
     "metadata": {},
     "output_type": "execute_result"
    }
   ],
   "source": [
    "import pandas as pd\n",
    "#Загружаем файл HR.csv в pandas dataframe\n",
    "df = pd.read_csv('HR.csv')\n",
    "df.head()"
   ]
  },
  {
   "cell_type": "code",
   "execution_count": 550,
   "id": "2666fcb1-34bc-4bb2-a5b9-df8044afef4c",
   "metadata": {},
   "outputs": [
    {
     "name": "stdout",
     "output_type": "stream",
     "text": [
      "<class 'pandas.core.frame.DataFrame'>\n",
      "RangeIndex: 14999 entries, 0 to 14998\n",
      "Data columns (total 10 columns):\n",
      " #   Column                 Non-Null Count  Dtype  \n",
      "---  ------                 --------------  -----  \n",
      " 0   satisfaction_level     14999 non-null  float64\n",
      " 1   last_evaluation        14999 non-null  float64\n",
      " 2   number_project         14999 non-null  int64  \n",
      " 3   average_montly_hours   14999 non-null  int64  \n",
      " 4   time_spend_company     14999 non-null  int64  \n",
      " 5   Work_accident          14999 non-null  int64  \n",
      " 6   left                   14999 non-null  int64  \n",
      " 7   promotion_last_5years  14999 non-null  int64  \n",
      " 8   department             14999 non-null  object \n",
      " 9   salary                 14999 non-null  object \n",
      "dtypes: float64(2), int64(6), object(2)\n",
      "memory usage: 1.1+ MB\n"
     ]
    }
   ],
   "source": [
    "df.info()"
   ]
  },
  {
   "cell_type": "code",
   "execution_count": 449,
   "id": "63ba5ad2-794d-45a4-9b8d-a9b550f40445",
   "metadata": {},
   "outputs": [
    {
     "data": {
      "text/html": [
       "<div>\n",
       "<style scoped>\n",
       "    .dataframe tbody tr th:only-of-type {\n",
       "        vertical-align: middle;\n",
       "    }\n",
       "\n",
       "    .dataframe tbody tr th {\n",
       "        vertical-align: top;\n",
       "    }\n",
       "\n",
       "    .dataframe thead th {\n",
       "        text-align: right;\n",
       "    }\n",
       "</style>\n",
       "<table border=\"1\" class=\"dataframe\">\n",
       "  <thead>\n",
       "    <tr style=\"text-align: right;\">\n",
       "      <th></th>\n",
       "      <th>satisfaction_level</th>\n",
       "      <th>last_evaluation</th>\n",
       "      <th>number_project</th>\n",
       "      <th>average_montly_hours</th>\n",
       "      <th>time_spend_company</th>\n",
       "    </tr>\n",
       "  </thead>\n",
       "  <tbody>\n",
       "    <tr>\n",
       "      <th>count</th>\n",
       "      <td>14999.000000</td>\n",
       "      <td>14999.000000</td>\n",
       "      <td>14999.000000</td>\n",
       "      <td>14999.000000</td>\n",
       "      <td>14999.000000</td>\n",
       "    </tr>\n",
       "    <tr>\n",
       "      <th>mean</th>\n",
       "      <td>0.612834</td>\n",
       "      <td>0.716102</td>\n",
       "      <td>3.803054</td>\n",
       "      <td>201.050337</td>\n",
       "      <td>3.498233</td>\n",
       "    </tr>\n",
       "    <tr>\n",
       "      <th>std</th>\n",
       "      <td>0.248631</td>\n",
       "      <td>0.171169</td>\n",
       "      <td>1.232592</td>\n",
       "      <td>49.943099</td>\n",
       "      <td>1.460136</td>\n",
       "    </tr>\n",
       "    <tr>\n",
       "      <th>min</th>\n",
       "      <td>0.090000</td>\n",
       "      <td>0.360000</td>\n",
       "      <td>2.000000</td>\n",
       "      <td>96.000000</td>\n",
       "      <td>2.000000</td>\n",
       "    </tr>\n",
       "    <tr>\n",
       "      <th>25%</th>\n",
       "      <td>0.440000</td>\n",
       "      <td>0.560000</td>\n",
       "      <td>3.000000</td>\n",
       "      <td>156.000000</td>\n",
       "      <td>3.000000</td>\n",
       "    </tr>\n",
       "    <tr>\n",
       "      <th>50%</th>\n",
       "      <td>0.640000</td>\n",
       "      <td>0.720000</td>\n",
       "      <td>4.000000</td>\n",
       "      <td>200.000000</td>\n",
       "      <td>3.000000</td>\n",
       "    </tr>\n",
       "    <tr>\n",
       "      <th>75%</th>\n",
       "      <td>0.820000</td>\n",
       "      <td>0.870000</td>\n",
       "      <td>5.000000</td>\n",
       "      <td>245.000000</td>\n",
       "      <td>4.000000</td>\n",
       "    </tr>\n",
       "    <tr>\n",
       "      <th>max</th>\n",
       "      <td>1.000000</td>\n",
       "      <td>1.000000</td>\n",
       "      <td>7.000000</td>\n",
       "      <td>310.000000</td>\n",
       "      <td>10.000000</td>\n",
       "    </tr>\n",
       "  </tbody>\n",
       "</table>\n",
       "</div>"
      ],
      "text/plain": [
       "       satisfaction_level  last_evaluation  number_project  \\\n",
       "count        14999.000000     14999.000000    14999.000000   \n",
       "mean             0.612834         0.716102        3.803054   \n",
       "std              0.248631         0.171169        1.232592   \n",
       "min              0.090000         0.360000        2.000000   \n",
       "25%              0.440000         0.560000        3.000000   \n",
       "50%              0.640000         0.720000        4.000000   \n",
       "75%              0.820000         0.870000        5.000000   \n",
       "max              1.000000         1.000000        7.000000   \n",
       "\n",
       "       average_montly_hours  time_spend_company  \n",
       "count          14999.000000        14999.000000  \n",
       "mean             201.050337            3.498233  \n",
       "std               49.943099            1.460136  \n",
       "min               96.000000            2.000000  \n",
       "25%              156.000000            3.000000  \n",
       "50%              200.000000            3.000000  \n",
       "75%              245.000000            4.000000  \n",
       "max              310.000000           10.000000  "
      ]
     },
     "execution_count": 449,
     "metadata": {},
     "output_type": "execute_result"
    }
   ],
   "source": [
    "#Рассчитываем основные статистики для переменных(среднее,медиана,мин/макс,сред.отклонение).\n",
    "df_stat_basics = df[['satisfaction_level','last_evaluation', 'number_project','average_montly_hours','time_spend_company']]\n",
    "df_stat_basics.describe()"
   ]
  },
  {
   "cell_type": "code",
   "execution_count": 454,
   "id": "85f820be-51ef-4bc7-b917-90e8568f76c1",
   "metadata": {},
   "outputs": [
    {
     "name": "stdout",
     "output_type": "stream",
     "text": [
      "satisfaction_level  Мода: 0.1\n",
      "last_evaluation  Мода: 0.55\n",
      "number_project  Мода: 4\n",
      "average_montly_hours  Мода: 135\n",
      "time_spend_company  Мода: 3\n"
     ]
    }
   ],
   "source": [
    "#Мода\n",
    "df_stat_basics.mode()\n",
    "\n",
    "for x in df_stat_basics:\n",
    "    Moda =df_stat_basics[x].mode()\n",
    "    print(x, f' Мода: {Moda[0]}')"
   ]
  },
  {
   "cell_type": "code",
   "execution_count": 457,
   "id": "0f85d47e-bc37-4032-a164-9ed13867ccb9",
   "metadata": {},
   "outputs": [
    {
     "name": "stdout",
     "output_type": "stream",
     "text": [
      "2 Самые скоррелированные переменные average_montly_hours & number_project. 2 Наименее скоррелированные переменные satisfaction_level & number_project.\n"
     ]
    },
    {
     "data": {
      "text/plain": [
       "<AxesSubplot:>"
      ]
     },
     "execution_count": 457,
     "metadata": {},
     "output_type": "execute_result"
    },
    {
     "data": {
      "image/png": "[encoded data removed]",
      "text/plain": [
       "<Figure size 720x720 with 2 Axes>"
      ]
     },
     "metadata": {
      "needs_background": "light"
     },
     "output_type": "display_data"
    }
   ],
   "source": [
    "#Рассчитайте и визуализировать корреляционную матрицу для количественных переменных.\n",
    "#Определите две самые скоррелированные и две наименее скоррелированные переменные.\n",
    "\n",
    "print('2 Самые скоррелированные переменные average_montly_hours & number_project. 2 Наименее скоррелированные переменные satisfaction_level & number_project.')\n",
    "plt.figure(figsize=(10,10))\n",
    "sns.heatmap(data=df_stat_basics.corr(method='spearman'),annot=True)"
   ]
  },
  {
   "cell_type": "code",
   "execution_count": 464,
   "id": "4a700e6c-15b6-4154-a227-a9b8b69ebecd",
   "metadata": {},
   "outputs": [
    {
     "data": {
      "text/html": [
       "<div>\n",
       "<style scoped>\n",
       "    .dataframe tbody tr th:only-of-type {\n",
       "        vertical-align: middle;\n",
       "    }\n",
       "\n",
       "    .dataframe tbody tr th {\n",
       "        vertical-align: top;\n",
       "    }\n",
       "\n",
       "    .dataframe thead th {\n",
       "        text-align: right;\n",
       "    }\n",
       "</style>\n",
       "<table border=\"1\" class=\"dataframe\">\n",
       "  <thead>\n",
       "    <tr style=\"text-align: right;\">\n",
       "      <th></th>\n",
       "      <th>left</th>\n",
       "    </tr>\n",
       "    <tr>\n",
       "      <th>department</th>\n",
       "      <th></th>\n",
       "    </tr>\n",
       "  </thead>\n",
       "  <tbody>\n",
       "    <tr>\n",
       "      <th>IT</th>\n",
       "      <td>1227</td>\n",
       "    </tr>\n",
       "    <tr>\n",
       "      <th>RandD</th>\n",
       "      <td>787</td>\n",
       "    </tr>\n",
       "    <tr>\n",
       "      <th>accounting</th>\n",
       "      <td>767</td>\n",
       "    </tr>\n",
       "    <tr>\n",
       "      <th>hr</th>\n",
       "      <td>739</td>\n",
       "    </tr>\n",
       "    <tr>\n",
       "      <th>management</th>\n",
       "      <td>630</td>\n",
       "    </tr>\n",
       "    <tr>\n",
       "      <th>marketing</th>\n",
       "      <td>858</td>\n",
       "    </tr>\n",
       "    <tr>\n",
       "      <th>product_mng</th>\n",
       "      <td>902</td>\n",
       "    </tr>\n",
       "    <tr>\n",
       "      <th>sales</th>\n",
       "      <td>4140</td>\n",
       "    </tr>\n",
       "    <tr>\n",
       "      <th>support</th>\n",
       "      <td>2229</td>\n",
       "    </tr>\n",
       "    <tr>\n",
       "      <th>technical</th>\n",
       "      <td>2720</td>\n",
       "    </tr>\n",
       "  </tbody>\n",
       "</table>\n",
       "</div>"
      ],
      "text/plain": [
       "             left\n",
       "department       \n",
       "IT           1227\n",
       "RandD         787\n",
       "accounting    767\n",
       "hr            739\n",
       "management    630\n",
       "marketing     858\n",
       "product_mng   902\n",
       "sales        4140\n",
       "support      2229\n",
       "technical    2720"
      ]
     },
     "execution_count": 464,
     "metadata": {},
     "output_type": "execute_result"
    }
   ],
   "source": [
    "#Рассчитайте сколько сотрудников работает в каждом департаменте.\n",
    "\n",
    "df[['department','left']].groupby('department').count()"
   ]
  },
  {
   "cell_type": "code",
   "execution_count": 439,
   "id": "fb0bcf87-ebda-47f1-a735-056cbcc98037",
   "metadata": {},
   "outputs": [
    {
     "data": {
      "text/plain": [
       "Text(0.5, 1.0, 'Распределение сотрудников по зарплатам')"
      ]
     },
     "execution_count": 439,
     "metadata": {},
     "output_type": "execute_result"
    },
    {
     "data": {
      "image/png": "[encoded data removed]",
      "text/plain": [
       "<Figure size 792x504 with 1 Axes>"
      ]
     },
     "metadata": {
      "needs_background": "light"
     },
     "output_type": "display_data"
    }
   ],
   "source": [
    "#Показать распределение сотрудников по зарплатам.\n",
    "import seaborn as sns\n",
    "import matplotlib.pyplot as plt\n",
    "from pylab import rcParams\n",
    "\n",
    "rcParams['figure.figsize'] = 11,7\n",
    "sns.histplot(df['salary'])\n",
    "plt.title('Распределение сотрудников по зарплатам')"
   ]
  },
  {
   "cell_type": "code",
   "execution_count": 465,
   "id": "8df231e9-4e20-4f5f-8c6d-ca43b6eb0253",
   "metadata": {},
   "outputs": [
    {
     "data": {
      "text/plain": [
       "<AxesSubplot:xlabel='department', ylabel='Count'>"
      ]
     },
     "execution_count": 465,
     "metadata": {},
     "output_type": "execute_result"
    },
    {
     "data": {
      "image/png": "[encoded data removed]",
      "text/plain": [
       "<Figure size 792x504 with 1 Axes>"
      ]
     },
     "metadata": {
      "needs_background": "light"
     },
     "output_type": "display_data"
    }
   ],
   "source": [
    "#Показать распределение сотрудников по зарплатам в каждом департаменте по отдельности.\n",
    "sns.histplot(df, x=\"department\", hue=\"salary\", multiple=\"dodge\", shrink=.8)"
   ]
  },
  {
   "cell_type": "code",
   "execution_count": 473,
   "id": "ca01e956-55da-4f51-809d-20f09024285e",
   "metadata": {},
   "outputs": [
    {
     "name": "stdout",
     "output_type": "stream",
     "text": [
      "Для проверки гипотезы используем медианное значение выборки с разбивкой по относительному уровню заработной платы. Для уровня high получаем значение 199.0, medium 201.0, low 199.0. Для всей выборки гипотеза не подтверждается. Проверим результат только на действующих сотрудниках.\n",
      "Для уровня high получаем значение 201.0, medium 199.0, low 197.0. Для действующего персонала гипотеза, что сотрудники с высоким окладом проводят на работе больше времени, чем сотрудники с низким окладом подтверждается.\n"
     ]
    },
    {
     "name": "stderr",
     "output_type": "stream",
     "text": [
      "/tmp/ipykernel_99427/4147636383.py:9: UserWarning: Boolean Series key will be reindexed to match DataFrame index.\n",
      "  m_h_nl = df[df.salary=='high'][df.left==0]['average_montly_hours'].median()\n",
      "/tmp/ipykernel_99427/4147636383.py:10: UserWarning: Boolean Series key will be reindexed to match DataFrame index.\n",
      "  m_m_nl = df[df.salary=='medium'][df.left==0]['average_montly_hours'].median()\n",
      "/tmp/ipykernel_99427/4147636383.py:11: UserWarning: Boolean Series key will be reindexed to match DataFrame index.\n",
      "  m_l_nl = df[df.salary=='low'][df.left==0]['average_montly_hours'].median()\n"
     ]
    }
   ],
   "source": [
    "#Проверить гипотезу, что сотрудники с высоким окладом проводят на работе больше времени, чем сотрудники с низким окладом.\n",
    "\n",
    "m_h_all = df[df.salary=='high']['average_montly_hours'].median()\n",
    "m_m_all = df[df.salary=='medium']['average_montly_hours'].median()\n",
    "m_l_all = df[df.salary=='low']['average_montly_hours'].median()\n",
    "\n",
    "print(f'Для проверки гипотезы используем медианное значение выборки с разбивкой по относительному уровню заработной платы. Для уровня high получаем значение {m_h_all}, medium {m_m_all}, low {m_l_all}. Для всей выборки гипотеза не подтверждается. Проверим результат только на действующих сотрудниках.')\n",
    "\n",
    "m_h_nl = df[df.salary=='high'][df.left==0]['average_montly_hours'].median()\n",
    "m_m_nl = df[df.salary=='medium'][df.left==0]['average_montly_hours'].median()\n",
    "m_l_nl = df[df.salary=='low'][df.left==0]['average_montly_hours'].median()\n",
    "\n",
    "print(f'Для уровня high получаем значение {m_h_nl}, medium {m_m_nl}, low {m_l_nl}. Для действующего персонала гипотеза, что сотрудники с высоким окладом проводят на работе больше времени, чем сотрудники с низким окладом подтверждается.')"
   ]
  },
  {
   "cell_type": "code",
   "execution_count": 471,
   "id": "8577486b-4ce2-4791-a8a9-3bc358cf8942",
   "metadata": {},
   "outputs": [
    {
     "name": "stdout",
     "output_type": "stream",
     "text": [
      "Расчет для действующих сотрудников. Доля сотрудников с повышением за последние 5 лет 2.63%, средняя степень удовлетворенности 0.67, среднее количество проектов 3.79.\n",
      "Расчет для уволенных сотрудников. Доля сотрудников с повышением за последние 5 лет 0.53%, средняя степень удовлетворенности 0.44, среднее количество проектов 3.86.\n"
     ]
    }
   ],
   "source": [
    "#Рассчитать следующие показатели среди уволившихся и неуволившихся сотрудников (по отдельности):\n",
    "# Доля сотрудников с повышением за последние 5 лет\n",
    "# Средняя степень удовлетворенности\n",
    "# Среднее количество проектов\n",
    "\n",
    "#Среди действующих\n",
    "nl_pl = round((data[data.left==0]['promotion_last_5years'].sum()/data[data.left==0]['promotion_last_5years'].count())*100,2)\n",
    "nl_sl = round(data[data.left==0]['satisfaction_level'].mean(),2)\n",
    "nl_np = round(data[data.left==0]['number_project'].mean(),2)\n",
    "print(f'Расчет для действующих сотрудников. Доля сотрудников с повышением за последние 5 лет {nl_pl}%, средняя степень удовлетворенности {nl_sl}, среднее количество проектов {nl_np}.')\n",
    "\n",
    "#Среди уволенных\n",
    "l_pl = round((data[data.left==1]['promotion_last_5years'].sum()/data[data.left==1]['promotion_last_5years'].count())*100,2)\n",
    "l_sl = round(data[data.left==1]['satisfaction_level'].mean(),2)\n",
    "l_np = round(data[data.left==1]['number_project'].mean(),2)\n",
    "print(f'Расчет для уволенных сотрудников. Доля сотрудников с повышением за последние 5 лет {l_pl}%, средняя степень удовлетворенности {l_sl}, среднее количество проектов {l_np}.')"
   ]
  },
  {
   "cell_type": "code",
   "execution_count": 288,
   "id": "1d75ec0f-17cc-4061-aabc-781812e09ff8",
   "metadata": {},
   "outputs": [],
   "source": [
    "# Разделить данные на тестовую и обучающую выборки\n",
    "# Построить модель LDA, предсказывающую уволился лисотрудник на основе имеющихся факторов (кроме department и salary)\n",
    "# Оценить качество модели на тестовой выборки"
   ]
  },
  {
   "cell_type": "code",
   "execution_count": 551,
   "id": "51e6435f-ab72-43da-9967-a8b168644bf9",
   "metadata": {},
   "outputs": [],
   "source": [
    "import numpy as np\n",
    "import matplotlib.pyplot as plt\n",
    "from matplotlib import colors\n",
    "from sklearn.model_selection import RepeatedStratifiedKFold\n",
    "from sklearn.model_selection import cross_val_score"
   ]
  },
  {
   "cell_type": "code",
   "execution_count": 552,
   "id": "450af444-0757-4a7b-b3f7-46334c956c81",
   "metadata": {},
   "outputs": [],
   "source": [
    "df_lda=df[['satisfaction_level','last_evaluation', 'number_project','average_montly_hours','time_spend_company', 'Work_accident', 'promotion_last_5years']]"
   ]
  },
  {
   "cell_type": "code",
   "execution_count": 553,
   "id": "2c948a9c-a1e5-41c2-b5b0-6ccae685d2be",
   "metadata": {},
   "outputs": [],
   "source": [
    "# разделяем выборку на тренировочную и тестовую\n",
    "\n",
    "from sklearn.model_selection import train_test_split\n",
    "X_train, X_test, y_train, y_test = train_test_split(df_lda, df['left'], test_size=0.25, random_state=42)"
   ]
  },
  {
   "cell_type": "code",
   "execution_count": 554,
   "id": "4a43a4c1-0edd-48eb-a363-33b628adb709",
   "metadata": {},
   "outputs": [
    {
     "data": {
      "text/plain": [
       "LinearDiscriminantAnalysis()"
      ]
     },
     "execution_count": 554,
     "metadata": {},
     "output_type": "execute_result"
    }
   ],
   "source": [
    "# импортируем LDA-функционал\n",
    "from sklearn.discriminant_analysis import LinearDiscriminantAnalysis \n",
    "lda = LinearDiscriminantAnalysis()\n",
    "\n",
    "# обучаем данные\n",
    "lda.fit(X_train, y_train)"
   ]
  },
  {
   "cell_type": "code",
   "execution_count": 568,
   "id": "9feaacab-c239-4a56-b6f1-f3debc50ea8a",
   "metadata": {},
   "outputs": [
    {
     "data": {
      "text/plain": [
       "array([0, 0, 0, ..., 0, 1, 0])"
      ]
     },
     "execution_count": 568,
     "metadata": {},
     "output_type": "execute_result"
    }
   ],
   "source": [
    "# делаем прогноз на тестовой выборке\n",
    "lda.predict(X_test)"
   ]
  },
  {
   "cell_type": "code",
   "execution_count": 569,
   "id": "6e7053b5-205b-4225-8a2f-731b102271d7",
   "metadata": {},
   "outputs": [
    {
     "name": "stdout",
     "output_type": "stream",
     "text": [
      "              precision    recall  f1-score   support\n",
      "\n",
      "    Non-left       0.79      0.91      0.85      2853\n",
      "        left       0.47      0.25      0.32       897\n",
      "\n",
      "    accuracy                           0.75      3750\n",
      "   macro avg       0.63      0.58      0.59      3750\n",
      "weighted avg       0.72      0.75      0.72      3750\n",
      "\n"
     ]
    }
   ],
   "source": [
    "from sklearn.metrics import classification_report\n",
    "\n",
    "report = classification_report(y_test, lda.predict(X_test), target_names=['Non-left', 'left'])\n",
    "print(report)"
   ]
  },
  {
   "cell_type": "code",
   "execution_count": 572,
   "id": "83dc1912-a352-41cf-8f03-7eafe1d63c21",
   "metadata": {},
   "outputs": [
    {
     "data": {
      "text/plain": [
       "array([[2605,  248],\n",
       "       [ 676,  221]])"
      ]
     },
     "execution_count": 572,
     "metadata": {},
     "output_type": "execute_result"
    }
   ],
   "source": [
    "from sklearn.metrics import confusion_matrix\n",
    "\n",
    "\n",
    "y_train = lda.predict(X_test)\n",
    "\n",
    "results = confusion_matrix(y_test, y_train)\n",
    "\n",
    "results "
   ]
  },
  {
   "cell_type": "code",
   "execution_count": null,
   "id": "51314ff6-4679-4688-bb91-fd6baae8de2a",
   "metadata": {},
   "outputs": [],
   "source": []
  }
 ],
 "metadata": {
  "kernelspec": {
   "display_name": "Python 3 (ipykernel)",
   "language": "python",
   "name": "python3"
  },
  "language_info": {
   "codemirror_mode": {
    "name": "ipython",
    "version": 3
   },
   "file_extension": ".py",
   "mimetype": "text/x-python",
   "name": "python",
   "nbconvert_exporter": "python",
   "pygments_lexer": "ipython3",
   "version": "3.8.10"
  }
 },
 "nbformat": 4,
 "nbformat_minor": 5
}
